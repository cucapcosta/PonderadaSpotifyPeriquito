{
 "cells": [
  {
   "cell_type": "code",
   "execution_count": 8,
   "metadata": {},
   "outputs": [],
   "source": [
    "from sklearn.model_selection import train_test_split\n",
    "from sklearn.metrics import accuracy_score, classification_report, confusion_matrix\n",
    "from sklearn.preprocessing import LabelEncoder, OneHotEncoder\n",
    "from sklearn.ensemble import RandomForestClassifier, ExtraTreesClassifier, StackingClassifier\n",
    "from sklearn.model_selection import GridSearchCV\n",
    "from sklearn.svm import SVC\n",
    "import pandas as pnd\n",
    "\n",
    "encoder = OneHotEncoder(sparse_output=False).set_output(transform='pandas')\n",
    "labelEncoder = LabelEncoder()\n",
    "\n",
    "\n",
    "\n",
    "dadosDeTreino = pnd.read_csv('train.csv')\n",
    "labelEncoder.fit_transform(dadosDeTreino['explicit'])\n",
    "encodeFeats = ['album_name', 'track_genre']\n",
    "encoded_data = encoder.fit_transform(dadosDeTreino[encodeFeats])\n",
    "dadosDeTreino = pnd.concat([dadosDeTreino, encoded_data], axis=1).drop(columns=encodeFeats)\n",
    "x=dadosDeTreino.drop(['popularity_target', 'track_unique_id','track_id','artists','track_name'], axis=1)\n",
    "y=dadosDeTreino['popularity_target']"
   ]
  },
  {
   "cell_type": "markdown",
   "metadata": {},
   "source": [
    "A preço de curiosidade, meu pc simplesmente não tem ram pra rodar isso ai (64 gigas não é o suficiente :O)"
   ]
  },
  {
   "cell_type": "code",
   "execution_count": 9,
   "metadata": {},
   "outputs": [],
   "source": [
    "x_treino, x_teste, y_treino, y_teste = train_test_split(x, y, test_size=0.1, random_state=42)"
   ]
  },
  {
   "cell_type": "code",
   "execution_count": null,
   "metadata": {},
   "outputs": [],
   "source": [
    "classifier = ExtraTreesClassifier(n_estimators=1000, random_state=42, n_jobs=-1)\n",
    "classifier.fit(x_treino, y_treino)\n",
    "y_pred = classifier.predict(x_teste)\n",
    "print('****************************************************************************************')\n",
    "print(classification_report(y_teste, y_pred))\n",
    "print('****************************************************************************************')\n",
    "print(confusion_matrix(y_teste, y_pred))"
   ]
  },
  {
   "cell_type": "code",
   "execution_count": null,
   "metadata": {},
   "outputs": [],
   "source": [
    "modelos_base = [('modelo9', ExtraTreesClassifier(criterion='gini', max_depth=None, max_features=None, n_estimators=1000, n_jobs=-1)),('modelo8', RandomForestClassifier(bootstrap=True, criterion='gini',  max_depth=None, max_features=None, n_estimators=1000, n_jobs=-1, random_state=42)),('modelo2',RandomForestClassifier(bootstrap=True, criterion='gini', max_depth=20, max_features=None, n_estimators=500, n_jobs=-1, random_state=42))]\n",
    "meta_modelo = SVC()\n",
    "modelo_stack = StackingClassifier(estimators=modelos_base, final_estimator=meta_modelo, cv=5)\n",
    "modelo_stack.fit(x_treino, y_treino)\n",
    "print(\"*******************************************************\")\n",
    "print(accuracy_score(y_teste, modelo_stack.predict(x_teste)))\n",
    "print(classification_report(y_teste, modelo_stack.predict(x_teste)))\n",
    "\n",
    "print(\"*******************************************************\")"
   ]
  },
  {
   "cell_type": "code",
   "execution_count": 4,
   "metadata": {},
   "outputs": [],
   "source": [
    "df = pnd.read_csv('test.csv')\n",
    "df.dropna(inplace=True)\n",
    "encoder.fit(df['explicit'])\n",
    "df['explicit'] = encoder.transform(df['explicit'])\n",
    "encoder.fit(df['track_genre'])\n",
    "df['track_genre'] = encoder.transform(df['track_genre'])\n",
    "x=df[[ 'duration_ms', 'explicit', 'danceability', 'energy', 'key', 'loudness', 'mode', 'speechiness', 'acousticness', 'instrumentalness', 'liveness', 'valence', 'tempo', 'time_signature', 'track_genre']]\n",
    "df['popularity_target'] = modelo_stack.predict(x)\n",
    "df[['track_unique_id', 'popularity_target']].to_csv('submission7.csv', index=False)"
   ]
  }
 ],
 "metadata": {
  "kernelspec": {
   "display_name": ".venv",
   "language": "python",
   "name": "python3"
  },
  "language_info": {
   "codemirror_mode": {
    "name": "ipython",
    "version": 3
   },
   "file_extension": ".py",
   "mimetype": "text/x-python",
   "name": "python",
   "nbconvert_exporter": "python",
   "pygments_lexer": "ipython3",
   "version": "3.12.5"
  }
 },
 "nbformat": 4,
 "nbformat_minor": 2
}
